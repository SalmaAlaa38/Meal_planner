{
 "cells": [
  {
   "cell_type": "code",
   "execution_count": 2,
   "metadata": {},
   "outputs": [],
   "source": [
    "import pandas as pd\n",
    "import joblib\n",
    "import ast"
   ]
  },
  {
   "cell_type": "code",
   "execution_count": 3,
   "metadata": {},
   "outputs": [
    {
     "data": {
      "text/html": [
       "<div>\n",
       "<style scoped>\n",
       "    .dataframe tbody tr th:only-of-type {\n",
       "        vertical-align: middle;\n",
       "    }\n",
       "\n",
       "    .dataframe tbody tr th {\n",
       "        vertical-align: top;\n",
       "    }\n",
       "\n",
       "    .dataframe thead th {\n",
       "        text-align: right;\n",
       "    }\n",
       "</style>\n",
       "<table border=\"1\" class=\"dataframe\">\n",
       "  <thead>\n",
       "    <tr style=\"text-align: right;\">\n",
       "      <th></th>\n",
       "      <th>title</th>\n",
       "      <th>ingredient_names</th>\n",
       "    </tr>\n",
       "  </thead>\n",
       "  <tbody>\n",
       "    <tr>\n",
       "      <th>0</th>\n",
       "      <td>Blueberry Breakfast Sausage</td>\n",
       "      <td>['pork sausage', 'fresh blueberries', 'dried t...</td>\n",
       "    </tr>\n",
       "    <tr>\n",
       "      <th>1</th>\n",
       "      <td>Greek Yogurt Buffalo Chicken Dip</td>\n",
       "      <td>['boneless skinless chicken breast ', 'chicken...</td>\n",
       "    </tr>\n",
       "    <tr>\n",
       "      <th>2</th>\n",
       "      <td>Air Fryer Teriyaki Chicken</td>\n",
       "      <td>['Chicken Breast', 'Lite Maple Syrup', 'Garlic...</td>\n",
       "    </tr>\n",
       "    <tr>\n",
       "      <th>3</th>\n",
       "      <td>Instant Pot Chicken Stroganoff</td>\n",
       "      <td>['boneless skinless chicken breast', 'egg nood...</td>\n",
       "    </tr>\n",
       "    <tr>\n",
       "      <th>4</th>\n",
       "      <td>Cowboy Soup</td>\n",
       "      <td>['lean ground beef', 'medium onion', 'garlic',...</td>\n",
       "    </tr>\n",
       "  </tbody>\n",
       "</table>\n",
       "</div>"
      ],
      "text/plain": [
       "                              title  \\\n",
       "0       Blueberry Breakfast Sausage   \n",
       "1  Greek Yogurt Buffalo Chicken Dip   \n",
       "2        Air Fryer Teriyaki Chicken   \n",
       "3    Instant Pot Chicken Stroganoff   \n",
       "4                       Cowboy Soup   \n",
       "\n",
       "                                    ingredient_names  \n",
       "0  ['pork sausage', 'fresh blueberries', 'dried t...  \n",
       "1  ['boneless skinless chicken breast ', 'chicken...  \n",
       "2  ['Chicken Breast', 'Lite Maple Syrup', 'Garlic...  \n",
       "3  ['boneless skinless chicken breast', 'egg nood...  \n",
       "4  ['lean ground beef', 'medium onion', 'garlic',...  "
      ]
     },
     "execution_count": 3,
     "metadata": {},
     "output_type": "execute_result"
    }
   ],
   "source": [
    "# Load saved model and vectorizer\n",
    "model = joblib.load('../models/food_classifier_model.pkl')\n",
    "vectorizer = joblib.load('../models/food_vectorizer.pkl')\n",
    "\n",
    "# Load the recipes dataset \n",
    "recipes_dataset_file_path = \"../output/recipe_classifier_final_version.csv\"\n",
    "recipe_dataset = pd.read_csv(recipes_dataset_file_path)\n",
    "recipe_dataset.head()"
   ]
  },
  {
   "cell_type": "code",
   "execution_count": 4,
   "metadata": {},
   "outputs": [],
   "source": [
    "def classify_recipe(ingredients_str):\n",
    "    \"\"\"Classify recipe diet type\"\"\"\n",
    "    ingredients = ast.literal_eval(ingredients_str)\n",
    "    predictions = []\n",
    "    for ingredient in ingredients:\n",
    "        ingredient_vector = vectorizer.transform([ingredient])\n",
    "        diet_type = model.predict(ingredient_vector)[0]\n",
    "        predictions.append(diet_type)\n",
    "\n",
    "    if \"Omnivorous\" in predictions:\n",
    "        return \"Omnivorous\"\n",
    "    elif \"Vegetarian\" in predictions:\n",
    "        return \"Vegetarian\"\n",
    "    else:\n",
    "        return \"Vegan\""
   ]
  },
  {
   "cell_type": "code",
   "execution_count": null,
   "metadata": {},
   "outputs": [
    {
     "name": "stdout",
     "output_type": "stream",
     "text": [
      "                                title   diet_type\n",
      "0         Blueberry Breakfast Sausage  Omnivorous\n",
      "1    Greek Yogurt Buffalo Chicken Dip  Omnivorous\n",
      "2          Air Fryer Teriyaki Chicken  Omnivorous\n",
      "3      Instant Pot Chicken Stroganoff  Omnivorous\n",
      "4                         Cowboy Soup  Omnivorous\n",
      "..                                ...         ...\n",
      "326                 Dirty Martini Dip  Vegetarian\n",
      "327         Overnight Oats with Water  Vegetarian\n",
      "328         Baked Chicken Tenderloins  Omnivorous\n",
      "329           Cottage Cheese and Eggs  Vegetarian\n",
      "330            Green Protein Smoothie       Vegan\n",
      "\n",
      "[331 rows x 2 columns]\n"
     ]
    }
   ],
   "source": [
    "recipe_dataset['diet_type'] = recipe_dataset['ingredient_names'].apply(classify_recipe)\n",
    "print(recipe_dataset[['title', 'diet_type']]) "
   ]
  },
  {
   "cell_type": "code",
   "execution_count": 8,
   "metadata": {},
   "outputs": [],
   "source": [
    "recipe_dataset.to_csv(\"../output/recipe_classified_phase_1.csv\", index=False)"
   ]
  }
 ],
 "metadata": {
  "kernelspec": {
   "display_name": "Python 3",
   "language": "python",
   "name": "python3"
  },
  "language_info": {
   "codemirror_mode": {
    "name": "ipython",
    "version": 3
   },
   "file_extension": ".py",
   "mimetype": "text/x-python",
   "name": "python",
   "nbconvert_exporter": "python",
   "pygments_lexer": "ipython3",
   "version": "3.13.1"
  }
 },
 "nbformat": 4,
 "nbformat_minor": 2
}
