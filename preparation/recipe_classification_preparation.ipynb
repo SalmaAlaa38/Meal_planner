{
 "cells": [
  {
   "cell_type": "code",
   "execution_count": 1,
   "metadata": {},
   "outputs": [],
   "source": [
    "import pandas as pd\n",
    "import numpy as np"
   ]
  },
  {
   "cell_type": "code",
   "execution_count": null,
   "metadata": {},
   "outputs": [
    {
     "name": "stdout",
     "output_type": "stream",
     "text": [
      "<class 'pandas.core.frame.DataFrame'>\n",
      "RangeIndex: 331 entries, 0 to 330\n",
      "Data columns (total 12 columns):\n",
      " #   Column            Non-Null Count  Dtype  \n",
      "---  ------            --------------  -----  \n",
      " 0   recipe_id         331 non-null    int64  \n",
      " 1   calories          331 non-null    float64\n",
      " 2   carbohydrates     324 non-null    float64\n",
      " 3   fat               318 non-null    float64\n",
      " 4   protein           331 non-null    object \n",
      " 5   title             331 non-null    object \n",
      " 6   dairy_free        331 non-null    int64  \n",
      " 7   gluten_free       331 non-null    int64  \n",
      " 8   meal_type         331 non-null    object \n",
      " 9   holiday           331 non-null    object \n",
      " 10  season            331 non-null    object \n",
      " 11  ingredient_names  331 non-null    object \n",
      "dtypes: float64(3), int64(3), object(6)\n",
      "memory usage: 31.2+ KB\n"
     ]
    }
   ],
   "source": [
    "recipe_classifier_dataset_file_path = \"../row/row_recipes.csv\"\n",
    "recipe_classifier_dataset = pd.read_csv(recipe_classifier_dataset_file_path)\n",
    "recipe_classifier_dataset.info()"
   ]
  },
  {
   "cell_type": "code",
   "execution_count": 8,
   "metadata": {},
   "outputs": [
    {
     "data": {
      "text/plain": [
       "Index(['recipe_id', 'ingredient_names'], dtype='object')"
      ]
     },
     "execution_count": 8,
     "metadata": {},
     "output_type": "execute_result"
    }
   ],
   "source": [
    "unwanted_columns = ['calories', 'carbohydrates', 'fat', 'protein', 'title',\n",
    "       'dairy_free', 'gluten_free', 'meal_type', 'holiday', 'season']\n",
    "recipe_classifier_dataset = recipe_classifier_dataset.drop(unwanted_columns, axis=1)\n",
    "recipe_classifier_dataset.columns"
   ]
  },
  {
   "cell_type": "code",
   "execution_count": null,
   "metadata": {},
   "outputs": [],
   "source": [
    "recipe_classifier_dataset.to_csv(\"../output/recipe_classifier_final_version.csv\", index=False)"
   ]
  }
 ],
 "metadata": {
  "kernelspec": {
   "display_name": "Python 3",
   "language": "python",
   "name": "python3"
  },
  "language_info": {
   "codemirror_mode": {
    "name": "ipython",
    "version": 3
   },
   "file_extension": ".py",
   "mimetype": "text/x-python",
   "name": "python",
   "nbconvert_exporter": "python",
   "pygments_lexer": "ipython3",
   "version": "3.13.1"
  }
 },
 "nbformat": 4,
 "nbformat_minor": 2
}
