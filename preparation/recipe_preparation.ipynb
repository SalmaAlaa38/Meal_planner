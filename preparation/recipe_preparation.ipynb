{
 "cells": [
  {
   "cell_type": "code",
   "execution_count": 1,
   "metadata": {},
   "outputs": [],
   "source": [
    "import pandas as pd\n",
    "import numpy as np"
   ]
  },
  {
   "cell_type": "code",
   "execution_count": 2,
   "metadata": {},
   "outputs": [
    {
     "name": "stdout",
     "output_type": "stream",
     "text": [
      "<class 'pandas.core.frame.DataFrame'>\n",
      "RangeIndex: 335 entries, 0 to 334\n",
      "Data columns (total 58 columns):\n",
      " #   Column               Non-Null Count  Dtype  \n",
      "---  ------               --------------  -----  \n",
      " 0   recipe_id            335 non-null    int64  \n",
      " 1   30_mins              335 non-null    int64  \n",
      " 2   breakfast            335 non-null    int64  \n",
      " 3   cookies              335 non-null    int64  \n",
      " 4   cottage_cheese       335 non-null    int64  \n",
      " 5   desserts             335 non-null    int64  \n",
      " 6   dinner               335 non-null    int64  \n",
      " 7   lunch                335 non-null    int64  \n",
      " 8   meal_prep            335 non-null    int64  \n",
      " 9   sauces_seasoning     335 non-null    int64  \n",
      " 10  sides_appetizers     335 non-null    int64  \n",
      " 11  calories             331 non-null    float64\n",
      " 12  carbohydrates        324 non-null    float64\n",
      " 13  cholesterol          198 non-null    float64\n",
      " 14  cook_time            286 non-null    float64\n",
      " 15  course               331 non-null    object \n",
      " 16  cuisine              331 non-null    object \n",
      " 17  description          331 non-null    object \n",
      " 18  fat                  318 non-null    float64\n",
      " 19  fiber                215 non-null    float64\n",
      " 20  full_name            331 non-null    object \n",
      " 21  image_url            329 non-null    object \n",
      " 22  ingredient_count     331 non-null    float64\n",
      " 23  ingredients          331 non-null    object \n",
      " 24  instructions         331 non-null    object \n",
      " 25  monounsaturated_fat  143 non-null    float64\n",
      " 26  notes                102 non-null    object \n",
      " 27  polyunsaturated_fat  105 non-null    float64\n",
      " 28  potassium            218 non-null    float64\n",
      " 29  prep_time            327 non-null    float64\n",
      " 30  protein              326 non-null    float64\n",
      " 31  saturated_fat        190 non-null    float64\n",
      " 32  serving              331 non-null    float64\n",
      " 33  sodium               266 non-null    float64\n",
      " 34  sugar                213 non-null    float64\n",
      " 35  title                331 non-null    object \n",
      " 36  dairy_free           335 non-null    int64  \n",
      " 37  gluten_free          335 non-null    int64  \n",
      " 38  4th_july             335 non-null    int64  \n",
      " 39  christmas            335 non-null    int64  \n",
      " 40  cinco_de_mayo        335 non-null    int64  \n",
      " 41  easter               335 non-null    int64  \n",
      " 42  fathers_day          335 non-null    int64  \n",
      " 43  labor_day            335 non-null    int64  \n",
      " 44  memorial_day         335 non-null    int64  \n",
      " 45  mothers_day          335 non-null    int64  \n",
      " 46  thanksgiving         335 non-null    int64  \n",
      " 47  valentienes_day      335 non-null    int64  \n",
      " 48  beef                 335 non-null    int64  \n",
      " 49  chicken              335 non-null    int64  \n",
      " 50  pork                 335 non-null    int64  \n",
      " 51  recipe_turkey        335 non-null    int64  \n",
      " 52  seafood              335 non-null    int64  \n",
      " 53  fall                 335 non-null    int64  \n",
      " 54  pumpkin              335 non-null    int64  \n",
      " 55  spring               335 non-null    int64  \n",
      " 56  summer               335 non-null    int64  \n",
      " 57  winter               335 non-null    int64  \n",
      "dtypes: float64(16), int64(33), object(9)\n",
      "memory usage: 151.9+ KB\n"
     ]
    }
   ],
   "source": [
    "# Load the dataset\n",
    "recipe_dataset_file_path = \"../input/full_recipes_dataset.csv\"\n",
    "recipe_dataset = pd.read_csv(recipe_dataset_file_path)\n",
    "recipe_dataset.info()"
   ]
  },
  {
   "cell_type": "code",
   "execution_count": 3,
   "metadata": {},
   "outputs": [
    {
     "name": "stdout",
     "output_type": "stream",
     "text": [
      "<class 'pandas.core.frame.DataFrame'>\n",
      "Index: 331 entries, 0 to 334\n",
      "Data columns (total 58 columns):\n",
      " #   Column               Non-Null Count  Dtype  \n",
      "---  ------               --------------  -----  \n",
      " 0   recipe_id            331 non-null    int64  \n",
      " 1   30_mins              331 non-null    int64  \n",
      " 2   breakfast            331 non-null    int64  \n",
      " 3   cookies              331 non-null    int64  \n",
      " 4   cottage_cheese       331 non-null    int64  \n",
      " 5   desserts             331 non-null    int64  \n",
      " 6   dinner               331 non-null    int64  \n",
      " 7   lunch                331 non-null    int64  \n",
      " 8   meal_prep            331 non-null    int64  \n",
      " 9   sauces_seasoning     331 non-null    int64  \n",
      " 10  snack                331 non-null    int64  \n",
      " 11  calories             331 non-null    float64\n",
      " 12  carbohydrates        324 non-null    float64\n",
      " 13  cholesterol          198 non-null    float64\n",
      " 14  cook_time            286 non-null    float64\n",
      " 15  course               331 non-null    object \n",
      " 16  cuisine              331 non-null    object \n",
      " 17  description          331 non-null    object \n",
      " 18  fat                  318 non-null    float64\n",
      " 19  fiber                215 non-null    float64\n",
      " 20  full_name            331 non-null    object \n",
      " 21  image_url            329 non-null    object \n",
      " 22  ingredient_count     331 non-null    float64\n",
      " 23  ingredients          331 non-null    object \n",
      " 24  instructions         331 non-null    object \n",
      " 25  monounsaturated_fat  143 non-null    float64\n",
      " 26  notes                102 non-null    object \n",
      " 27  polyunsaturated_fat  105 non-null    float64\n",
      " 28  potassium            218 non-null    float64\n",
      " 29  prep_time            327 non-null    float64\n",
      " 30  protein              326 non-null    float64\n",
      " 31  saturated_fat        190 non-null    float64\n",
      " 32  serving              331 non-null    float64\n",
      " 33  sodium               266 non-null    float64\n",
      " 34  sugar                213 non-null    float64\n",
      " 35  title                331 non-null    object \n",
      " 36  dairy_free           331 non-null    int64  \n",
      " 37  gluten_free          331 non-null    int64  \n",
      " 38  4th_july             331 non-null    int64  \n",
      " 39  christmas            331 non-null    int64  \n",
      " 40  cinco_de_mayo        331 non-null    int64  \n",
      " 41  easter               331 non-null    int64  \n",
      " 42  fathers_day          331 non-null    int64  \n",
      " 43  labor_day            331 non-null    int64  \n",
      " 44  memorial_day         331 non-null    int64  \n",
      " 45  mothers_day          331 non-null    int64  \n",
      " 46  thanksgiving         331 non-null    int64  \n",
      " 47  valentienes_day      331 non-null    int64  \n",
      " 48  beef                 331 non-null    int64  \n",
      " 49  chicken              331 non-null    int64  \n",
      " 50  pork                 331 non-null    int64  \n",
      " 51  recipe_turkey        331 non-null    int64  \n",
      " 52  seafood              331 non-null    int64  \n",
      " 53  fall                 331 non-null    int64  \n",
      " 54  pumpkin              331 non-null    int64  \n",
      " 55  spring               331 non-null    int64  \n",
      " 56  summer               331 non-null    int64  \n",
      " 57  winter               331 non-null    int64  \n",
      "dtypes: float64(16), int64(33), object(9)\n",
      "memory usage: 152.6+ KB\n"
     ]
    }
   ],
   "source": [
    "# Drop empty rows and rename column\n",
    "recipe_dataset.rename(columns={\"sides_appetizers\": \"snack\"}, inplace=True) \n",
    "recipe_dataset = recipe_dataset.dropna(subset=[\"title\"])\n",
    "recipe_dataset.info()"
   ]
  },
  {
   "cell_type": "code",
   "execution_count": 4,
   "metadata": {},
   "outputs": [
    {
     "name": "stdout",
     "output_type": "stream",
     "text": [
      "['recipe_id', '30_mins', 'breakfast', 'cookies', 'cottage_cheese', 'desserts', 'dinner', 'lunch', 'meal_prep', 'sauces_seasoning', 'snack', 'calories', 'carbohydrates', 'cholesterol', 'cook_time', 'course', 'cuisine', 'description', 'fat', 'fiber', 'full_name', 'image_url', 'ingredient_count', 'ingredients', 'instructions', 'monounsaturated_fat', 'notes', 'polyunsaturated_fat', 'potassium', 'prep_time', 'protein', 'saturated_fat', 'serving', 'sodium', 'sugar', 'title', 'dairy_free', 'gluten_free', '4th_july', 'christmas', 'cinco_de_mayo', 'easter', 'fathers_day', 'labor_day', 'memorial_day', 'mothers_day', 'thanksgiving', 'valentienes_day', 'beef', 'chicken', 'pork', 'recipe_turkey', 'seafood', 'fall', 'pumpkin', 'spring', 'summer', 'winter', 'meal_type']\n"
     ]
    }
   ],
   "source": [
    "columns_string = \"recipe_id,30_mins,breakfast,cookies,cottage_cheese,desserts,dinner,lunch,meal_prep,sauces_seasoning,snack,calories,carbohydrates,cholesterol,cook_time,course,cuisine,description,fat,fiber,full_name,image_url,ingredient_count,ingredients,instructions,monounsaturated_fat,notes,polyunsaturated_fat,potassium,prep_time,protein,saturated_fat,serving,sodium,sugar,title,dairy_free,gluten_free,4th_july,christmas,cinco_de_mayo,easter,fathers_day,labor_day,memorial_day,mothers_day,thanksgiving,valentienes_day,beef,chicken,pork,recipe_turkey,seafood,fall,pumpkin,spring,summer,winter,meal_type\"\n",
    "columns_list = columns_string.split(\",\")\n",
    "print(columns_list)"
   ]
  },
  {
   "cell_type": "code",
   "execution_count": 5,
   "metadata": {},
   "outputs": [],
   "source": [
    "# Combine binary flags for meals\n",
    "meal_columns = [\"breakfast\", \"dinner\", \"lunch\", \"snack\", \"desserts\"]\n",
    "\n",
    "recipe_dataset[\"meal_type\"] = recipe_dataset.apply(\n",
    "    lambda row: [meal for meal in meal_columns if row[meal]],\n",
    "    axis=1\n",
    ")\n",
    "\n",
    "# Remove meal types\n",
    "recipe_dataset = recipe_dataset.drop(columns=[col for col in meal_columns if col in recipe_dataset.columns])"
   ]
  },
  {
   "cell_type": "code",
   "execution_count": 6,
   "metadata": {},
   "outputs": [],
   "source": [
    "# Combine binary flags for season\n",
    "holiday_columns = ['4th_july',\n",
    "       'christmas', 'cinco_de_mayo', 'easter', 'fathers_day', 'labor_day',\n",
    "       'memorial_day', 'mothers_day', 'thanksgiving', 'valentienes_day']\n",
    "\n",
    "recipe_dataset[\"holiday\"] = recipe_dataset.apply(\n",
    "    lambda row: [meal for meal in holiday_columns if row[meal]],\n",
    "    axis=1\n",
    ")\n",
    "\n",
    "# Remove meal types\n",
    "recipe_dataset = recipe_dataset.drop(columns=[col for col in holiday_columns if col in recipe_dataset.columns])"
   ]
  },
  {
   "cell_type": "code",
   "execution_count": 7,
   "metadata": {},
   "outputs": [],
   "source": [
    "# Combine binary flags for season\n",
    "season_columns = ['fall','spring', 'summer', 'winter']\n",
    "\n",
    "recipe_dataset[\"season\"] = recipe_dataset.apply(\n",
    "    lambda row: [meal for meal in season_columns if row[meal]],\n",
    "    axis=1\n",
    ")\n",
    "\n",
    "# Remove meal types\n",
    "recipe_dataset = recipe_dataset.drop(columns=[col for col in season_columns if col in recipe_dataset.columns])"
   ]
  },
  {
   "cell_type": "code",
   "execution_count": 8,
   "metadata": {},
   "outputs": [],
   "source": [
    "recipe_dataset.rename(columns={\"recipe_turkey\": \"turkey\"}, inplace=True)"
   ]
  },
  {
   "cell_type": "code",
   "execution_count": 9,
   "metadata": {},
   "outputs": [],
   "source": [
    "# Combine binary flags for season\n",
    "protein_columns = [ 'beef', 'chicken', 'pork', 'turkey', 'seafood']\n",
    "\n",
    "recipe_dataset[\"protein\"] = recipe_dataset.apply(\n",
    "    lambda row: [meal for meal in protein_columns if row[meal]],\n",
    "    axis=1\n",
    ")\n",
    "\n",
    "# Remove meal types\n",
    "recipe_dataset = recipe_dataset.drop(columns=[col for col in protein_columns if col in recipe_dataset.columns])"
   ]
  },
  {
   "cell_type": "code",
   "execution_count": 10,
   "metadata": {},
   "outputs": [],
   "source": [
    "columns_to_drop_list = ['30_mins', 'cookies', 'cottage_cheese', 'meal_prep', 'sauces_seasoning', 'cholesterol',\n",
    "       'cook_time', 'description', 'fiber', 'full_name', 'image_url', 'instructions', 'monounsaturated_fat', \n",
    "       'notes', 'polyunsaturated_fat', 'potassium', 'prep_time', 'saturated_fat', 'serving','sodium', 'sugar',]\n",
    "recipe_dataset = recipe_dataset.drop(columns=[col for col in columns_to_drop_list if col in recipe_dataset.columns])"
   ]
  },
  {
   "cell_type": "code",
   "execution_count": 11,
   "metadata": {},
   "outputs": [],
   "source": [
    "import ast \n",
    "\n",
    "def parse_ingredients(ingredient_str):\n",
    "    return ast.literal_eval(ingredient_str)\n",
    "\n",
    "def extract_ingredient_names(ingredient_list):\n",
    "    names = []\n",
    "    for ingredient in ingredient_list:\n",
    "        if ingredient.get('name'):\n",
    "            names.append(ingredient['name'])\n",
    "    return names\n",
    "\n",
    "recipe_dataset['parsed_ingredients'] = recipe_dataset['ingredients'].apply(parse_ingredients)\n",
    "\n",
    "recipe_dataset['ingredient_names'] = recipe_dataset['parsed_ingredients'].apply(extract_ingredient_names)\n"
   ]
  },
  {
   "cell_type": "code",
   "execution_count": 12,
   "metadata": {},
   "outputs": [
    {
     "name": "stdout",
     "output_type": "stream",
     "text": [
      "Index(['recipe_id', 'calories', 'carbohydrates', 'fat', 'protein', 'title',\n",
      "       'dairy_free', 'gluten_free', 'meal_type', 'holiday', 'season',\n",
      "       'ingredient_names'],\n",
      "      dtype='object')\n"
     ]
    }
   ],
   "source": [
    "columns_to_drop_list = [ 'course', 'cuisine', 'ingredient_count', 'ingredients',\n",
    "        'pumpkin','parsed_ingredients']\n",
    "recipe_dataset = recipe_dataset.drop(columns=[col for col in columns_to_drop_list if col in recipe_dataset.columns])\n",
    "\n",
    "print(recipe_dataset.columns)\n",
    "recipe_dataset.to_csv(\"../row/row_recipes.csv\", index=False)"
   ]
  },
  {
   "cell_type": "code",
   "execution_count": 13,
   "metadata": {},
   "outputs": [
    {
     "name": "stdout",
     "output_type": "stream",
     "text": [
      "Index(['title', 'ingredient_names'], dtype='object')\n"
     ]
    }
   ],
   "source": [
    "unwanted_columns_for_classification = ['recipe_id', 'calories', 'carbohydrates', 'fat', 'protein',\n",
    "       'dairy_free', 'gluten_free', 'meal_type', 'holiday', 'season']\n",
    "recipe_classifier_dataset = recipe_dataset.drop(unwanted_columns_for_classification, axis=1)\n",
    "print(recipe_classifier_dataset.columns)\n",
    "recipe_classifier_dataset.to_csv(\"../output/recipe_classifier_final_version.csv\", index=False)"
   ]
  },
  {
   "cell_type": "code",
   "execution_count": 14,
   "metadata": {},
   "outputs": [
    {
     "name": "stdout",
     "output_type": "stream",
     "text": [
      "<class 'pandas.core.frame.DataFrame'>\n",
      "RangeIndex: 337 entries, 0 to 336\n",
      "Data columns (total 13 columns):\n",
      " #   Column            Non-Null Count  Dtype  \n",
      "---  ------            --------------  -----  \n",
      " 0   recipe_id         337 non-null    int64  \n",
      " 1   calories          337 non-null    float64\n",
      " 2   carbohydrates     330 non-null    float64\n",
      " 3   fat               324 non-null    float64\n",
      " 4   protein           337 non-null    object \n",
      " 5   title             337 non-null    object \n",
      " 6   dairy_free        337 non-null    int64  \n",
      " 7   gluten_free       337 non-null    int64  \n",
      " 8   meal_type         337 non-null    object \n",
      " 9   holiday           337 non-null    object \n",
      " 10  season            337 non-null    object \n",
      " 11  ingredient_names  337 non-null    object \n",
      " 12  diet_type         337 non-null    object \n",
      "dtypes: float64(3), int64(3), object(7)\n",
      "memory usage: 34.4+ KB\n",
      "None\n"
     ]
    }
   ],
   "source": [
    "# Load recipe classified dataset\n",
    "classified_recipe_dataset_file_path = \"../output/recipe_classified_phase_1.csv\"\n",
    "classified_dataset = pd.read_csv(classified_recipe_dataset_file_path)\n",
    "\n",
    "# Merge and handle column name conflicts\n",
    "merged_dataset = recipe_dataset.merge(\n",
    "    classified_dataset[['title', 'diet_type', 'ingredient_names']],\n",
    "    on='title',\n",
    "    how='left',\n",
    "    suffixes=('', '_classified')\n",
    ")\n",
    "\n",
    "# Drop the redundant ingredient_names_classified\n",
    "if 'ingredient_names_classified' in merged_dataset.columns:\n",
    "    merged_dataset.drop('ingredient_names_classified', axis=1, inplace=True)\n",
    "\n",
    "# Print the cleaned DataFrame\n",
    "print(merged_dataset.info())\n",
    "\n"
   ]
  },
  {
   "cell_type": "code",
   "execution_count": 15,
   "metadata": {},
   "outputs": [],
   "source": [
    "merged_dataset.to_csv(\"../output/recipe_classified_phase_2.csv\", index=False)"
   ]
  },
  {
   "cell_type": "code",
   "execution_count": 16,
   "metadata": {},
   "outputs": [],
   "source": [
    "# Combine binary flags for season\n",
    "diet_prefrences_columns = [ 'gluten_free', 'dairy_free']\n",
    "\n",
    "merged_dataset[\"diet_prefrences\"] = merged_dataset.apply(\n",
    "    lambda row: [meal for meal in diet_prefrences_columns if row[meal]],\n",
    "    axis=1\n",
    ")\n",
    "\n",
    "# Remove meal types\n",
    "merged_dataset = merged_dataset.drop(columns=[col for col in diet_prefrences_columns if col in merged_dataset.columns])"
   ]
  },
  {
   "cell_type": "code",
   "execution_count": 17,
   "metadata": {},
   "outputs": [
    {
     "data": {
      "text/plain": [
       "Index(['recipe_id', 'calories', 'carbohydrates', 'fat', 'protein', 'title',\n",
       "       'meal_type', 'holiday', 'season', 'ingredient_names', 'diet_type',\n",
       "       'diet_prefrences'],\n",
       "      dtype='object')"
      ]
     },
     "execution_count": 17,
     "metadata": {},
     "output_type": "execute_result"
    }
   ],
   "source": [
    "merged_dataset.columns"
   ]
  },
  {
   "cell_type": "code",
   "execution_count": 18,
   "metadata": {},
   "outputs": [
    {
     "name": "stdout",
     "output_type": "stream",
     "text": [
      "Index(['recipe_id', 'protein', 'meal_type', 'holiday', 'season',\n",
      "       'ingredient_names', 'diet_type', 'diet_prefrences'],\n",
      "      dtype='object')\n"
     ]
    }
   ],
   "source": [
    "unwanted_columns_for_merging_full = ['title', 'calories', 'carbohydrates', 'fat']\n",
    "recipe_merging_dataset = merged_dataset.drop(unwanted_columns_for_merging_full, axis=1)\n",
    "print(recipe_merging_dataset.columns)\n",
    "recipe_merging_dataset.to_csv(\"../output/recipe_classified_phase_3.csv\", index=False)"
   ]
  },
  {
   "cell_type": "code",
   "execution_count": null,
   "metadata": {},
   "outputs": [],
   "source": []
  }
 ],
 "metadata": {
  "kernelspec": {
   "display_name": "Python 3",
   "language": "python",
   "name": "python3"
  },
  "language_info": {
   "codemirror_mode": {
    "name": "ipython",
    "version": 3
   },
   "file_extension": ".py",
   "mimetype": "text/x-python",
   "name": "python",
   "nbconvert_exporter": "python",
   "pygments_lexer": "ipython3",
   "version": "3.13.1"
  }
 },
 "nbformat": 4,
 "nbformat_minor": 2
}
