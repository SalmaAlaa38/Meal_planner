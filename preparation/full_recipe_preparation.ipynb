{
 "cells": [
  {
   "cell_type": "code",
   "execution_count": 1,
   "metadata": {},
   "outputs": [],
   "source": [
    "import pandas as pd\n",
    "import numpy as np"
   ]
  },
  {
   "cell_type": "code",
   "execution_count": null,
   "metadata": {},
   "outputs": [
    {
     "name": "stdout",
     "output_type": "stream",
     "text": [
      "<class 'pandas.core.frame.DataFrame'>\n",
      "RangeIndex: 335 entries, 0 to 334\n",
      "Data columns (total 58 columns):\n",
      " #   Column               Non-Null Count  Dtype  \n",
      "---  ------               --------------  -----  \n",
      " 0   recipe_id            335 non-null    int64  \n",
      " 1   30_mins              335 non-null    int64  \n",
      " 2   breakfast            335 non-null    int64  \n",
      " 3   cookies              335 non-null    int64  \n",
      " 4   cottage_cheese       335 non-null    int64  \n",
      " 5   desserts             335 non-null    int64  \n",
      " 6   dinner               335 non-null    int64  \n",
      " 7   lunch                335 non-null    int64  \n",
      " 8   meal_prep            335 non-null    int64  \n",
      " 9   sauces_seasoning     335 non-null    int64  \n",
      " 10  sides_appetizers     335 non-null    int64  \n",
      " 11  calories             331 non-null    float64\n",
      " 12  carbohydrates        324 non-null    float64\n",
      " 13  cholesterol          198 non-null    float64\n",
      " 14  cook_time            286 non-null    float64\n",
      " 15  course               331 non-null    object \n",
      " 16  cuisine              331 non-null    object \n",
      " 17  description          331 non-null    object \n",
      " 18  fat                  318 non-null    float64\n",
      " 19  fiber                215 non-null    float64\n",
      " 20  full_name            331 non-null    object \n",
      " 21  image_url            329 non-null    object \n",
      " 22  ingredient_count     331 non-null    float64\n",
      " 23  ingredients          331 non-null    object \n",
      " 24  instructions         331 non-null    object \n",
      " 25  monounsaturated_fat  143 non-null    float64\n",
      " 26  notes                102 non-null    object \n",
      " 27  polyunsaturated_fat  105 non-null    float64\n",
      " 28  potassium            218 non-null    float64\n",
      " 29  prep_time            327 non-null    float64\n",
      " 30  protein              326 non-null    float64\n",
      " 31  saturated_fat        190 non-null    float64\n",
      " 32  serving              331 non-null    float64\n",
      " 33  sodium               266 non-null    float64\n",
      " 34  sugar                213 non-null    float64\n",
      " 35  title                331 non-null    object \n",
      " 36  dairy_free           335 non-null    int64  \n",
      " 37  gluten_free          335 non-null    int64  \n",
      " 38  4th_july             335 non-null    int64  \n",
      " 39  christmas            335 non-null    int64  \n",
      " 40  cinco_de_mayo        335 non-null    int64  \n",
      " 41  easter               335 non-null    int64  \n",
      " 42  fathers_day          335 non-null    int64  \n",
      " 43  labor_day            335 non-null    int64  \n",
      " 44  memorial_day         335 non-null    int64  \n",
      " 45  mothers_day          335 non-null    int64  \n",
      " 46  thanksgiving         335 non-null    int64  \n",
      " 47  valentienes_day      335 non-null    int64  \n",
      " 48  beef                 335 non-null    int64  \n",
      " 49  chicken              335 non-null    int64  \n",
      " 50  pork                 335 non-null    int64  \n",
      " 51  recipe_turkey        335 non-null    int64  \n",
      " 52  seafood              335 non-null    int64  \n",
      " 53  fall                 335 non-null    int64  \n",
      " 54  pumpkin              335 non-null    int64  \n",
      " 55  spring               335 non-null    int64  \n",
      " 56  summer               335 non-null    int64  \n",
      " 57  winter               335 non-null    int64  \n",
      "dtypes: float64(16), int64(33), object(9)\n",
      "memory usage: 151.9+ KB\n",
      "None\n",
      "<class 'pandas.core.frame.DataFrame'>\n",
      "RangeIndex: 337 entries, 0 to 336\n",
      "Data columns (total 8 columns):\n",
      " #   Column            Non-Null Count  Dtype \n",
      "---  ------            --------------  ----- \n",
      " 0   recipe_id         337 non-null    int64 \n",
      " 1   protein           337 non-null    object\n",
      " 2   meal_type         337 non-null    object\n",
      " 3   holiday           337 non-null    object\n",
      " 4   season            337 non-null    object\n",
      " 5   ingredient_names  337 non-null    object\n",
      " 6   diet_type         337 non-null    object\n",
      " 7   diet_prefrences   337 non-null    object\n",
      "dtypes: int64(1), object(7)\n",
      "memory usage: 21.2+ KB\n",
      "None\n"
     ]
    }
   ],
   "source": [
    "full_dataset_file_path = \"../input/full_recipes_dataset.csv\"\n",
    "full_dataset = pd.read_csv(full_dataset_file_path)\n",
    "\n",
    "recipe_classified_file_path = \"../output/recipe_classified_phase_3.csv\"\n",
    "recipe_classified = pd.read_csv(recipe_classified_file_path)\n"
   ]
  },
  {
   "cell_type": "code",
   "execution_count": 5,
   "metadata": {},
   "outputs": [
    {
     "name": "stdout",
     "output_type": "stream",
     "text": [
      "<class 'pandas.core.frame.DataFrame'>\n",
      "RangeIndex: 341 entries, 0 to 340\n",
      "Data columns (total 65 columns):\n",
      " #   Column               Non-Null Count  Dtype  \n",
      "---  ------               --------------  -----  \n",
      " 0   recipe_id            341 non-null    int64  \n",
      " 1   30_mins              341 non-null    int64  \n",
      " 2   breakfast            341 non-null    int64  \n",
      " 3   cookies              341 non-null    int64  \n",
      " 4   cottage_cheese       341 non-null    int64  \n",
      " 5   desserts             341 non-null    int64  \n",
      " 6   dinner               341 non-null    int64  \n",
      " 7   lunch                341 non-null    int64  \n",
      " 8   meal_prep            341 non-null    int64  \n",
      " 9   sauces_seasoning     341 non-null    int64  \n",
      " 10  sides_appetizers     341 non-null    int64  \n",
      " 11  calories             337 non-null    float64\n",
      " 12  carbohydrates        330 non-null    float64\n",
      " 13  cholesterol          204 non-null    float64\n",
      " 14  cook_time            290 non-null    float64\n",
      " 15  course               337 non-null    object \n",
      " 16  cuisine              337 non-null    object \n",
      " 17  description          337 non-null    object \n",
      " 18  fat                  324 non-null    float64\n",
      " 19  fiber                221 non-null    float64\n",
      " 20  full_name            337 non-null    object \n",
      " 21  image_url            335 non-null    object \n",
      " 22  ingredient_count     337 non-null    float64\n",
      " 23  ingredients          337 non-null    object \n",
      " 24  instructions         337 non-null    object \n",
      " 25  monounsaturated_fat  149 non-null    float64\n",
      " 26  notes                106 non-null    object \n",
      " 27  polyunsaturated_fat  109 non-null    float64\n",
      " 28  potassium            224 non-null    float64\n",
      " 29  prep_time            333 non-null    float64\n",
      " 30  protein              332 non-null    float64\n",
      " 31  saturated_fat        196 non-null    float64\n",
      " 32  serving              337 non-null    float64\n",
      " 33  sodium               272 non-null    float64\n",
      " 34  sugar                219 non-null    float64\n",
      " 35  title                337 non-null    object \n",
      " 36  dairy_free           341 non-null    int64  \n",
      " 37  gluten_free          341 non-null    int64  \n",
      " 38  4th_july             341 non-null    int64  \n",
      " 39  christmas            341 non-null    int64  \n",
      " 40  cinco_de_mayo        341 non-null    int64  \n",
      " 41  easter               341 non-null    int64  \n",
      " 42  fathers_day          341 non-null    int64  \n",
      " 43  labor_day            341 non-null    int64  \n",
      " 44  memorial_day         341 non-null    int64  \n",
      " 45  mothers_day          341 non-null    int64  \n",
      " 46  thanksgiving         341 non-null    int64  \n",
      " 47  valentienes_day      341 non-null    int64  \n",
      " 48  beef                 341 non-null    int64  \n",
      " 49  chicken              341 non-null    int64  \n",
      " 50  pork                 341 non-null    int64  \n",
      " 51  recipe_turkey        341 non-null    int64  \n",
      " 52  seafood              341 non-null    int64  \n",
      " 53  fall                 341 non-null    int64  \n",
      " 54  pumpkin              341 non-null    int64  \n",
      " 55  spring               341 non-null    int64  \n",
      " 56  summer               341 non-null    int64  \n",
      " 57  winter               341 non-null    int64  \n",
      " 58  protein_classified   337 non-null    object \n",
      " 59  meal_type            337 non-null    object \n",
      " 60  holiday              337 non-null    object \n",
      " 61  season               337 non-null    object \n",
      " 62  ingredient_names     337 non-null    object \n",
      " 63  diet_type            337 non-null    object \n",
      " 64  diet_prefrences      337 non-null    object \n",
      "dtypes: float64(16), int64(33), object(16)\n",
      "memory usage: 173.3+ KB\n",
      "None\n"
     ]
    }
   ],
   "source": [
    "merged_dataset = full_dataset.merge(\n",
    "    recipe_classified[['recipe_id', 'protein', 'meal_type', 'holiday', 'season',\n",
    "       'ingredient_names', 'diet_type', 'diet_prefrences']],\n",
    "       on='recipe_id',\n",
    "       how='left',\n",
    "       suffixes=('', '_classified')\n",
    ")\n",
    "\n",
    "print(merged_dataset.info())"
   ]
  },
  {
   "cell_type": "code",
   "execution_count": 10,
   "metadata": {},
   "outputs": [],
   "source": [
    "merged_dataset.rename(columns={\"protein_classified\": \"protein_type\"}, inplace=True)\n",
    "merged_dataset.rename(columns={\"recipe_turkey\": \"turkey\"}, inplace=True)"
   ]
  },
  {
   "cell_type": "code",
   "execution_count": 11,
   "metadata": {},
   "outputs": [],
   "source": [
    "merged_dataset.to_csv('../meal_planner/full_recipe_dataset_final_version.csv', index=False)"
   ]
  },
  {
   "cell_type": "code",
   "execution_count": 12,
   "metadata": {},
   "outputs": [
    {
     "name": "stdout",
     "output_type": "stream",
     "text": [
      "{'bowl', 'Japanese', 'American', 'drinks', 'American, Thai', 'Russian', 'Italian', 'Chinese', 'American, Indian', nan, 'mocktail', 'Hawaiian', 'American, Chinese', 'American, Italian', 'American, Italian, Thai', 'Creole', 'Chinese, Mexican', 'Mexican', 'American, French', 'greek', 'American, Mexican'}\n"
     ]
    }
   ],
   "source": [
    "unique_values = set(merged_dataset['cuisine'].explode())\n",
    "print(unique_values)"
   ]
  },
  {
   "cell_type": "code",
   "execution_count": 13,
   "metadata": {},
   "outputs": [
    {
     "name": "stdout",
     "output_type": "stream",
     "text": [
      "{'Appetizer, Side Dish, Snack', 'Breakfast, Snack', 'Dessert, Snack', 'Main Course', 'Side Dish, Snack', 'Salad', 'Salad, Side Dish', 'Main Course, Side Dish', 'Dessert, Drinks, Snack', 'Main Course, Salad, Side Dish, Snack', 'Dessert', 'seasoning', 'Appetizer, Main Course', 'Side Dish', 'Appetizer, Dessert, Snack', 'Breakfast, Main Course, Snack', 'Appetizer', 'Breakfast, Main Course, Side Dish', nan, 'Main Course, Snack', 'Breakfast, Dessert, Snack', 'Appetizer, Snack', 'Drinks', 'Breakfast, Dessert, Side Dish', 'Appetizer, Main Course, Salad, Side Dish', 'Main Course, Soup', 'Appetizer, Main Course, Side Dish', 'Appetizer, Main Course, Snack', 'Appetizer, Salad, Side Dish, Snack', 'Breakfast, Dessert', 'Appetizer, Main Course, Side Dish, Snack', 'Breakfast, Main Course', 'Appetizer, Side Dish', 'Salad, Side Dish, Snack', 'Appetizer, Salad, Side Dish', 'Breakfast', 'Snack'}\n"
     ]
    }
   ],
   "source": [
    "unique_values = set(merged_dataset['course'].explode())\n",
    "print(unique_values)"
   ]
  },
  {
   "cell_type": "code",
   "execution_count": null,
   "metadata": {},
   "outputs": [],
   "source": []
  }
 ],
 "metadata": {
  "kernelspec": {
   "display_name": "Python 3",
   "language": "python",
   "name": "python3"
  },
  "language_info": {
   "codemirror_mode": {
    "name": "ipython",
    "version": 3
   },
   "file_extension": ".py",
   "mimetype": "text/x-python",
   "name": "python",
   "nbconvert_exporter": "python",
   "pygments_lexer": "ipython3",
   "version": "3.13.1"
  }
 },
 "nbformat": 4,
 "nbformat_minor": 2
}
