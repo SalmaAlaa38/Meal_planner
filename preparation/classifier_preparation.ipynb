{
 "cells": [
  {
   "cell_type": "code",
   "execution_count": 2,
   "metadata": {},
   "outputs": [],
   "source": [
    "import pandas as pd\n",
    "import numpy as np"
   ]
  },
  {
   "cell_type": "code",
   "execution_count": null,
   "metadata": {},
   "outputs": [],
   "source": [
    "classifier_file_path = \"../input/macros_dataset.csv\"\n",
    "classifier_dataset = pd.read_csv(classifier_file_path)"
   ]
  },
  {
   "cell_type": "code",
   "execution_count": 4,
   "metadata": {},
   "outputs": [
    {
     "data": {
      "text/html": [
       "<div>\n",
       "<style scoped>\n",
       "    .dataframe tbody tr th:only-of-type {\n",
       "        vertical-align: middle;\n",
       "    }\n",
       "\n",
       "    .dataframe tbody tr th {\n",
       "        vertical-align: top;\n",
       "    }\n",
       "\n",
       "    .dataframe thead th {\n",
       "        text-align: right;\n",
       "    }\n",
       "</style>\n",
       "<table border=\"1\" class=\"dataframe\">\n",
       "  <thead>\n",
       "    <tr style=\"text-align: right;\">\n",
       "      <th></th>\n",
       "      <th>food_name</th>\n",
       "      <th>proteins_100g</th>\n",
       "      <th>carbohydrates_100g</th>\n",
       "      <th>fat_100g</th>\n",
       "      <th>energy_100g</th>\n",
       "      <th>category_name</th>\n",
       "      <th>origin</th>\n",
       "      <th>diet_type</th>\n",
       "    </tr>\n",
       "  </thead>\n",
       "  <tbody>\n",
       "    <tr>\n",
       "      <th>0</th>\n",
       "      <td>Alaskan salmon</td>\n",
       "      <td>25.4</td>\n",
       "      <td>0.0</td>\n",
       "      <td>6.7</td>\n",
       "      <td>170.0</td>\n",
       "      <td>Fish</td>\n",
       "      <td>Animal</td>\n",
       "      <td>Omnivorous</td>\n",
       "    </tr>\n",
       "    <tr>\n",
       "      <th>1</th>\n",
       "      <td>Almonds</td>\n",
       "      <td>21.3</td>\n",
       "      <td>19.7</td>\n",
       "      <td>50.6</td>\n",
       "      <td>577.0</td>\n",
       "      <td>Nuts</td>\n",
       "      <td>Non-animal</td>\n",
       "      <td>Vegan</td>\n",
       "    </tr>\n",
       "    <tr>\n",
       "      <th>2</th>\n",
       "      <td>Amaranth</td>\n",
       "      <td>14.5</td>\n",
       "      <td>66.2</td>\n",
       "      <td>6.5</td>\n",
       "      <td>374.0</td>\n",
       "      <td>Grains</td>\n",
       "      <td>Non-animal</td>\n",
       "      <td>Vegan</td>\n",
       "    </tr>\n",
       "    <tr>\n",
       "      <th>3</th>\n",
       "      <td>Anchovies</td>\n",
       "      <td>29.0</td>\n",
       "      <td>0.0</td>\n",
       "      <td>9.7</td>\n",
       "      <td>210.0</td>\n",
       "      <td>Fish</td>\n",
       "      <td>Animal</td>\n",
       "      <td>Omnivorous</td>\n",
       "    </tr>\n",
       "    <tr>\n",
       "      <th>4</th>\n",
       "      <td>Asparagus</td>\n",
       "      <td>2.4</td>\n",
       "      <td>4.1</td>\n",
       "      <td>0.2</td>\n",
       "      <td>22.0</td>\n",
       "      <td>Vegetables</td>\n",
       "      <td>Non-animal</td>\n",
       "      <td>Vegan</td>\n",
       "    </tr>\n",
       "  </tbody>\n",
       "</table>\n",
       "</div>"
      ],
      "text/plain": [
       "        food_name  proteins_100g  carbohydrates_100g  fat_100g  energy_100g  \\\n",
       "0  Alaskan salmon           25.4                 0.0       6.7        170.0   \n",
       "1         Almonds           21.3                19.7      50.6        577.0   \n",
       "2        Amaranth           14.5                66.2       6.5        374.0   \n",
       "3       Anchovies           29.0                 0.0       9.7        210.0   \n",
       "4       Asparagus            2.4                 4.1       0.2         22.0   \n",
       "\n",
       "  category_name      origin   diet_type  \n",
       "0          Fish      Animal  Omnivorous  \n",
       "1          Nuts  Non-animal       Vegan  \n",
       "2        Grains  Non-animal       Vegan  \n",
       "3          Fish      Animal  Omnivorous  \n",
       "4    Vegetables  Non-animal       Vegan  "
      ]
     },
     "execution_count": 4,
     "metadata": {},
     "output_type": "execute_result"
    }
   ],
   "source": [
    "classifier_dataset.head()"
   ]
  },
  {
   "cell_type": "code",
   "execution_count": null,
   "metadata": {},
   "outputs": [],
   "source": [
    "classifier_dataset = classifier_dataset.replace({'\"', ''}, regex=True)\n",
    "classifier_dataset.to_csv(\"../row/row_classifier.csv\", index=False)"
   ]
  },
  {
   "cell_type": "code",
   "execution_count": null,
   "metadata": {},
   "outputs": [
    {
     "data": {
      "text/html": [
       "<div>\n",
       "<style scoped>\n",
       "    .dataframe tbody tr th:only-of-type {\n",
       "        vertical-align: middle;\n",
       "    }\n",
       "\n",
       "    .dataframe tbody tr th {\n",
       "        vertical-align: top;\n",
       "    }\n",
       "\n",
       "    .dataframe thead th {\n",
       "        text-align: right;\n",
       "    }\n",
       "</style>\n",
       "<table border=\"1\" class=\"dataframe\">\n",
       "  <thead>\n",
       "    <tr style=\"text-align: right;\">\n",
       "      <th></th>\n",
       "      <th>food_name</th>\n",
       "      <th>proteins_100g</th>\n",
       "      <th>carbohydrates_100g</th>\n",
       "      <th>fat_100g</th>\n",
       "      <th>energy_100g</th>\n",
       "      <th>category_name</th>\n",
       "      <th>origin</th>\n",
       "      <th>diet_type</th>\n",
       "    </tr>\n",
       "  </thead>\n",
       "  <tbody>\n",
       "    <tr>\n",
       "      <th>0</th>\n",
       "      <td>Alaskan salmon</td>\n",
       "      <td>25.4</td>\n",
       "      <td>0.0</td>\n",
       "      <td>6.7</td>\n",
       "      <td>170.0</td>\n",
       "      <td>Fish</td>\n",
       "      <td>Animal</td>\n",
       "      <td>Omnivorous</td>\n",
       "    </tr>\n",
       "    <tr>\n",
       "      <th>1</th>\n",
       "      <td>Almonds</td>\n",
       "      <td>21.3</td>\n",
       "      <td>19.7</td>\n",
       "      <td>50.6</td>\n",
       "      <td>577.0</td>\n",
       "      <td>Nuts</td>\n",
       "      <td>Non-animal</td>\n",
       "      <td>Vegan</td>\n",
       "    </tr>\n",
       "    <tr>\n",
       "      <th>2</th>\n",
       "      <td>Amaranth</td>\n",
       "      <td>14.5</td>\n",
       "      <td>66.2</td>\n",
       "      <td>6.5</td>\n",
       "      <td>374.0</td>\n",
       "      <td>Grains</td>\n",
       "      <td>Non-animal</td>\n",
       "      <td>Vegan</td>\n",
       "    </tr>\n",
       "    <tr>\n",
       "      <th>3</th>\n",
       "      <td>Anchovies</td>\n",
       "      <td>29.0</td>\n",
       "      <td>0.0</td>\n",
       "      <td>9.7</td>\n",
       "      <td>210.0</td>\n",
       "      <td>Fish</td>\n",
       "      <td>Animal</td>\n",
       "      <td>Omnivorous</td>\n",
       "    </tr>\n",
       "    <tr>\n",
       "      <th>4</th>\n",
       "      <td>Asparagus</td>\n",
       "      <td>2.4</td>\n",
       "      <td>4.1</td>\n",
       "      <td>0.2</td>\n",
       "      <td>22.0</td>\n",
       "      <td>Vegetables</td>\n",
       "      <td>Non-animal</td>\n",
       "      <td>Vegan</td>\n",
       "    </tr>\n",
       "  </tbody>\n",
       "</table>\n",
       "</div>"
      ],
      "text/plain": [
       "        food_name  proteins_100g  carbohydrates_100g  fat_100g  energy_100g  \\\n",
       "0  Alaskan salmon           25.4                 0.0       6.7        170.0   \n",
       "1         Almonds           21.3                19.7      50.6        577.0   \n",
       "2        Amaranth           14.5                66.2       6.5        374.0   \n",
       "3       Anchovies           29.0                 0.0       9.7        210.0   \n",
       "4       Asparagus            2.4                 4.1       0.2         22.0   \n",
       "\n",
       "  category_name      origin   diet_type  \n",
       "0          Fish      Animal  Omnivorous  \n",
       "1          Nuts  Non-animal       Vegan  \n",
       "2        Grains  Non-animal       Vegan  \n",
       "3          Fish      Animal  Omnivorous  \n",
       "4    Vegetables  Non-animal       Vegan  "
      ]
     },
     "execution_count": 6,
     "metadata": {},
     "output_type": "execute_result"
    }
   ],
   "source": [
    "# Load row classifier dataset\n",
    "classifier_file_path = \"../row/row_classifier.csv\"\n",
    "classifier_dataset = pd.read_csv(classifier_file_path)\n",
    "classifier_dataset.head()"
   ]
  },
  {
   "cell_type": "code",
   "execution_count": 7,
   "metadata": {},
   "outputs": [
    {
     "name": "stdout",
     "output_type": "stream",
     "text": [
      "Index(['food_name', 'diet_type'], dtype='object')\n"
     ]
    }
   ],
   "source": [
    "columns_to_drop = [\"proteins_100g\", \"carbohydrates_100g\", \"fat_100g\", \"energy_100g\", \"category_name\", \"origin\"]\n",
    "classifier_dataset = classifier_dataset.drop(columns=columns_to_drop, )\n",
    "print(classifier_dataset.columns)"
   ]
  },
  {
   "cell_type": "code",
   "execution_count": null,
   "metadata": {},
   "outputs": [],
   "source": [
    "classifier_dataset.to_csv(\"../output/classifier_final_version.csv\", index=False)"
   ]
  }
 ],
 "metadata": {
  "kernelspec": {
   "display_name": "Python 3",
   "language": "python",
   "name": "python3"
  },
  "language_info": {
   "codemirror_mode": {
    "name": "ipython",
    "version": 3
   },
   "file_extension": ".py",
   "mimetype": "text/x-python",
   "name": "python",
   "nbconvert_exporter": "python",
   "pygments_lexer": "ipython3",
   "version": "3.13.1"
  }
 },
 "nbformat": 4,
 "nbformat_minor": 2
}
